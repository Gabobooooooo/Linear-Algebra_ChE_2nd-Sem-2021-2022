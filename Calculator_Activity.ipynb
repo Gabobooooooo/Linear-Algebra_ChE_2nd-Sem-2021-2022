{
  "nbformat": 4,
  "nbformat_minor": 0,
  "metadata": {
    "colab": {
      "name": "Calculator Activity.ipynb",
      "provenance": [],
      "authorship_tag": "ABX9TyMXYIc2i5/KeMLkypFTuDe2",
      "include_colab_link": true
    },
    "kernelspec": {
      "name": "python3",
      "display_name": "Python 3"
    },
    "language_info": {
      "name": "python"
    }
  },
  "cells": [
    {
      "cell_type": "markdown",
      "metadata": {
        "id": "view-in-github",
        "colab_type": "text"
      },
      "source": [
        "<a href=\"https://colab.research.google.com/github/Gabobooooooo/Linear-Algebra_ChE_2nd-Sem-2021-2022/blob/main/Calculator_Activity.ipynb\" target=\"_parent\"><img src=\"https://colab.research.google.com/assets/colab-badge.svg\" alt=\"Open In Colab\"/></a>"
      ]
    },
    {
      "cell_type": "code",
      "execution_count": 34,
      "metadata": {
        "colab": {
          "base_uri": "https://localhost:8080/"
        },
        "id": "L4CUeuVSYmIj",
        "outputId": "c9154159-257d-4831-ac2e-81ee8f9454b1"
      },
      "outputs": [
        {
          "output_type": "stream",
          "name": "stdout",
          "text": [
            "Name: gab\n",
            "Input your prelim grade: 30\n",
            "Input your prelim grade: 50\n",
            "Input your prelim grade: 60\n",
            "Hello gab, your semestral grade is: 46.67\n",
            "😭\n"
          ]
        }
      ],
      "source": [
        "name = input(\"Name: \")\n",
        "Pg = input(\"Input your prelim grade: \")\n",
        "Mg = input(\"Input your prelim grade: \")\n",
        "Fg = input(\"Input your prelim grade: \")\n",
        "SemGrade = float((int(Pg) + int(Mg) + int(Fg))/3)\n",
        "SemGrade = round(SemGrade, 2)\n",
        "PassingGrade = 70\n",
        "print(\"Hello {}, your semestral grade is: {}\".format(name,SemGrade))\n",
        "if(SemGrade == PassingGrade):\n",
        "  print(\"\\U0001F606\")\n",
        "elif(SemGrade>PassingGrade):\n",
        "    print(\"\\U0001F600\")\n",
        "else:\n",
        "      print(\"\\U0001F62D\")\n"
      ]
    }
  ]
}