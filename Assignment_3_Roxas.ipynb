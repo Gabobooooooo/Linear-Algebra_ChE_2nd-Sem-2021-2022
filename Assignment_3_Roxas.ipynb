{
  "nbformat": 4,
  "nbformat_minor": 0,
  "metadata": {
    "colab": {
      "name": "Assignment 2 Roxas.ipynb",
      "provenance": [],
      "authorship_tag": "ABX9TyOPEvz2W6x+0ayoraP125Cm",
      "include_colab_link": true
    },
    "kernelspec": {
      "name": "python3",
      "display_name": "Python 3"
    },
    "language_info": {
      "name": "python"
    }
  },
  "cells": [
    {
      "cell_type": "markdown",
      "metadata": {
        "id": "view-in-github",
        "colab_type": "text"
      },
      "source": [
        "<a href=\"https://colab.research.google.com/github/Gabobooooooo/Linear-Algebra_ChE_2nd-Sem-2021-2022/blob/main/Assignment_3_Roxas.ipynb\" target=\"_parent\"><img src=\"https://colab.research.google.com/assets/colab-badge.svg\" alt=\"Open In Colab\"/></a>"
      ]
    },
    {
      "cell_type": "markdown",
      "source": [
        "# Linear Algebra for CHE\n",
        "## Assignment 2 : Matrices"
      ],
      "metadata": {
        "id": "WMAMKTd2KUj3"
      }
    },
    {
      "cell_type": "markdown",
      "source": [
        "###Objectives"
      ],
      "metadata": {
        "id": "NYd3MnsPVv83"
      }
    },
    {
      "cell_type": "markdown",
      "source": [
        "#####At the end of this activity, you will be able to:\n",
        "\n",
        "\n",
        "*   Be familiar with matrices and their relation to linear equations\n",
        "*   Perform basic matrix operations\n",
        "*  Program and translate matrix equations and operations using Python.\n",
        "\n",
        "\n",
        "\n",
        "\n",
        "\n",
        "\n"
      ],
      "metadata": {
        "id": "btk8fq_dVxtt"
      }
    },
    {
      "cell_type": "markdown",
      "source": [
        "#Discussion\n"
      ],
      "metadata": {
        "id": "ZfGo17ffK0Tk"
      }
    },
    {
      "cell_type": "code",
      "source": [
        "import numpy as np\n",
        "import matplotlib.pyplot as plt\n",
        "import scipy.linalg as la\n",
        "%matplotlib inline\n"
      ],
      "metadata": {
        "id": "oyAU-VaTK4Oz"
      },
      "execution_count": null,
      "outputs": []
    },
    {
      "cell_type": "markdown",
      "source": [
        "#Matrices\n"
      ],
      "metadata": {
        "id": "D_3r07sILAPU"
      }
    },
    {
      "cell_type": "markdown",
      "source": [
        "######Let's say for example you have A and B as C system of equation."
      ],
      "metadata": {
        "id": "PbNPw2imfMfR"
      }
    },
    {
      "cell_type": "markdown",
      "source": [
        "$$\n",
        "A = \\left\\{\n",
        "    \\begin{array}\\\n",
        "        x + y \\\\ \n",
        "        4x - 10y\n",
        "    \\end{array}\n",
        "\\right. \\\\\n",
        "B = \\left\\{\n",
        "    \\begin{array}\\\n",
        "        x+y+z \\\\ \n",
        "        3x -2y -z \\\\\n",
        "        -x + 4y +2z\n",
        "    \\end{array}\n",
        "\\right. \\\\\n",
        "C = \\left\\{\n",
        "    \\begin{array}\\\n",
        "        w-2x+3y-4z \\\\ \n",
        "        3w-x-2y+z \\\\\n",
        "        2w-x+3y-2z\n",
        "    \\end{array}\n",
        "\\right. \\\\\n",
        "$$"
      ],
      "metadata": {
        "id": "064W1KXaM_bG"
      }
    },
    {
      "cell_type": "markdown",
      "source": [
        " \n",
        " \n",
        " \n",
        "We could see that A is a system of 2 equations with 2 parameters, B has a system of 3 equations with 3 parameters, and C does also have 3 equations with 3 parameters. We can represent them as matrices as:"
      ],
      "metadata": {
        "id": "0No_Tr6dWMjT"
      }
    },
    {
      "cell_type": "markdown",
      "source": [
        "$$\n",
        "A=\\begin{bmatrix} 1 & 1 \\\\ 4 & -10 \\end{bmatrix} \\\\\n",
        "B=\\begin{bmatrix} 1 & 1 & 1 \\\\ 3 & -2 & -1 \\\\ -1 & 4 & 2\\end{bmatrix}\\\\\n",
        "C=\\begin{bmatrix} 1 & -2 & 3 & -4 \\\\ 3 & -1 & -2 & 1 \\\\ 2 & -1 & 3 & -2\\end{bmatrix}\\\\\n",
        "$$\n"
      ],
      "metadata": {
        "id": "HoReOmLEOY_z"
      }
    },
    {
      "cell_type": "markdown",
      "source": [
        "#Declaring Matrices"
      ],
      "metadata": {
        "id": "AWiztzQXPutr"
      }
    },
    {
      "cell_type": "markdown",
      "source": [
        "$$A=\\begin{bmatrix}\n",
        "a_{(0,0)}&a_{(0,1)}&\\dots&a_{(0,j-1)}\\\\\n",
        "a_{(1,0)}&a_{(1,1)}&\\dots&a_{(1,j-1)}\\\\\n",
        "\\vdots&\\vdots&\\ddots&\\vdots&\\\\\n",
        "a_{(i-1,0)}&a_{(i-1,1)}&\\dots&a_{(i-1,j-1)}\n",
        "\\end{bmatrix}\n",
        "$$\n"
      ],
      "metadata": {
        "id": "XIQMbjhfQQ8v"
      }
    },
    {
      "cell_type": "code",
      "source": [
        "def describe_mt(matrix):\n",
        "    print(f'Matrix:\\n{matrix}\\n\\nShape:\\t{matrix.shape}\\nRank:\\t{matrix.ndim}\\n')\n"
      ],
      "metadata": {
        "id": "LD21I5lQQVa4"
      },
      "execution_count": null,
      "outputs": []
    },
    {
      "cell_type": "code",
      "source": [
        "A = np.array([\n",
        "    [42, 28],\n",
        "    [69, 5]\n",
        "])\n",
        "describe_mt(A)"
      ],
      "metadata": {
        "colab": {
          "base_uri": "https://localhost:8080/"
        },
        "id": "DyZvx-rTQofw",
        "outputId": "a45adfd9-298b-40fa-dfc2-cea110581792"
      },
      "execution_count": null,
      "outputs": [
        {
          "output_type": "stream",
          "name": "stdout",
          "text": [
            "Matrix:\n",
            "[[42 28]\n",
            " [69  5]]\n",
            "\n",
            "Shape:\t(2, 2)\n",
            "Rank:\t2\n",
            "\n"
          ]
        }
      ]
    },
    {
      "cell_type": "code",
      "source": [
        "G = np.array([\n",
        "    [34,7,43],\n",
        "    [99,23,26]\n",
        "])\n",
        "describe_mt(G)\n"
      ],
      "metadata": {
        "colab": {
          "base_uri": "https://localhost:8080/"
        },
        "id": "S5UKiF_cSM6V",
        "outputId": "95eb619b-5b64-4d33-9405-88ad6e5f4990"
      },
      "execution_count": null,
      "outputs": [
        {
          "output_type": "stream",
          "name": "stdout",
          "text": [
            "Matrix:\n",
            "[[34  7 43]\n",
            " [99 23 26]]\n",
            "\n",
            "Shape:\t(2, 3)\n",
            "Rank:\t2\n",
            "\n"
          ]
        }
      ]
    },
    {
      "cell_type": "code",
      "source": [
        "B = np.array([\n",
        "    [32, 31],\n",
        "    [533, 43],\n",
        "    [500, 700]\n",
        "])\n",
        "describe_mt(B)\n"
      ],
      "metadata": {
        "colab": {
          "base_uri": "https://localhost:8080/"
        },
        "id": "g-ExX_lqSYUd",
        "outputId": "8e8db29b-e27a-42ca-99fb-f8c61929e357"
      },
      "execution_count": null,
      "outputs": [
        {
          "output_type": "stream",
          "name": "stdout",
          "text": [
            "Matrix:\n",
            "[[ 32  31]\n",
            " [533  43]\n",
            " [500 700]]\n",
            "\n",
            "Shape:\t(3, 2)\n",
            "Rank:\t2\n",
            "\n"
          ]
        }
      ]
    },
    {
      "cell_type": "code",
      "source": [
        "H = np.array([\n",
        "  [69,21,23,4]\n",
        "  ])\n",
        "    \n",
        "describe_mt(H)\n"
      ],
      "metadata": {
        "colab": {
          "base_uri": "https://localhost:8080/"
        },
        "id": "2An7lKQGSmNH",
        "outputId": "d607b9c7-43fa-4e41-97d6-f0168529a3a0"
      },
      "execution_count": null,
      "outputs": [
        {
          "output_type": "stream",
          "name": "stdout",
          "text": [
            "Matrix:\n",
            "[[69 21 23  4]]\n",
            "\n",
            "Shape:\t(1, 4)\n",
            "Rank:\t2\n",
            "\n"
          ]
        }
      ]
    },
    {
      "cell_type": "markdown",
      "source": [
        "#Categorizing Matrices"
      ],
      "metadata": {
        "id": "I0nyA3T5Syva"
      }
    },
    {
      "cell_type": "markdown",
      "source": [
        "#####Matrices are portrayed differently depending either on the shape or element values they contain."
      ],
      "metadata": {
        "id": "9bUgBAnJgNg-"
      }
    },
    {
      "cell_type": "markdown",
      "source": [
        "##According to Shape"
      ],
      "metadata": {
        "id": "55zKc8cfgTyU"
      }
    },
    {
      "cell_type": "markdown",
      "source": [
        "###Row and Columns\n"
      ],
      "metadata": {
        "id": "dBI4BWxATtfZ"
      }
    },
    {
      "cell_type": "code",
      "source": [
        "## Declaring a Row Matrix\n",
        "\n",
        "rowmatrix1D = np.array([\n",
        "    5, 2, 7, -26\n",
        "]) ## this is a 1-D Matrix with a shape of (3,), it's not really considered as a row matrix.\n",
        "row_mat_2D = np.array([\n",
        "    [69,66,23, -56]\n",
        "]) ## this is a 2-D Matrix with a shape of (1,3)\n",
        "describe_mat(rowmatrix1D)\n",
        "describe_mat(row_mat_2D)\n"
      ],
      "metadata": {
        "colab": {
          "base_uri": "https://localhost:8080/"
        },
        "id": "sVr6Nm7JT9Ee",
        "outputId": "59a1c151-bfef-4764-83da-4197b4ec602f"
      },
      "execution_count": null,
      "outputs": [
        {
          "output_type": "stream",
          "name": "stdout",
          "text": [
            "Matrix:\n",
            "[  5   2   7 -26]\n",
            "\n",
            "Shape:\t(4,)\n",
            "Rank:\t1\n",
            "\n",
            "Matrix:\n",
            "[[ 69  66  23 -56]]\n",
            "\n",
            "Shape:\t(1, 4)\n",
            "Rank:\t2\n",
            "\n"
          ]
        }
      ]
    },
    {
      "cell_type": "code",
      "source": [
        "col_mat = np.array([\n",
        "    [69],\n",
        "    [16],\n",
        "    [143]\n",
        "]) ## this is a 2-D Matrix with a shape of (3,1)\n",
        "describe_mat(col_mat)\n"
      ],
      "metadata": {
        "colab": {
          "base_uri": "https://localhost:8080/"
        },
        "id": "_8xWhOxhUlim",
        "outputId": "8f3e2531-f51f-47a1-ca37-83188f1c2db2"
      },
      "execution_count": null,
      "outputs": [
        {
          "output_type": "stream",
          "name": "stdout",
          "text": [
            "Matrix:\n",
            "[[ 69]\n",
            " [ 16]\n",
            " [143]]\n",
            "\n",
            "Shape:\t(3, 1)\n",
            "Rank:\t2\n",
            "\n"
          ]
        }
      ]
    },
    {
      "cell_type": "markdown",
      "source": [
        "###Square Matrix"
      ],
      "metadata": {
        "id": "HaE5N4NrVO42"
      }
    },
    {
      "cell_type": "code",
      "source": [
        "def describe_mat(matrix):\n",
        "    is_square = True if matrix.shape[0] == matrix.shape[1] else False \n",
        "    print(f'Matrix:\\n{matrix}\\n\\nShape:\\t{matrix.shape}\\nRank:\\t{matrix.ndim}\\nIs Square: {is_square}\\n')\n"
      ],
      "metadata": {
        "id": "3mWXNE2LVQ6E"
      },
      "execution_count": null,
      "outputs": []
    },
    {
      "cell_type": "code",
      "source": [
        "square_mat = np.array([\n",
        "    [1,4,3],\n",
        "    [6,6,6],\n",
        "    [7,7,7]\n",
        "])\n",
        "\n",
        "non_square_mat = np.array([\n",
        "    [143,666,777],\n",
        "    [1,4,3]\n",
        "])\n",
        "describe_mat(square_mat)\n",
        "describe_mat(non_square_mat)\n"
      ],
      "metadata": {
        "colab": {
          "base_uri": "https://localhost:8080/"
        },
        "id": "6yXzMvr4VfYw",
        "outputId": "be54aae9-988d-4fc4-de97-3ecf3411fd15"
      },
      "execution_count": null,
      "outputs": [
        {
          "output_type": "stream",
          "name": "stdout",
          "text": [
            "Matrix:\n",
            "[[1 4 3]\n",
            " [6 6 6]\n",
            " [7 7 7]]\n",
            "\n",
            "Shape:\t(3, 3)\n",
            "Rank:\t2\n",
            "Is Square: True\n",
            "\n",
            "Matrix:\n",
            "[[143 666 777]\n",
            " [  1   4   3]]\n",
            "\n",
            "Shape:\t(2, 3)\n",
            "Rank:\t2\n",
            "Is Square: False\n",
            "\n"
          ]
        }
      ]
    },
    {
      "cell_type": "markdown",
      "source": [
        "#According to element values\n"
      ],
      "metadata": {
        "id": "n53gpzlUWMCZ"
      }
    },
    {
      "cell_type": "markdown",
      "source": [
        "###Null Matrix\n"
      ],
      "metadata": {
        "id": "b2PKkiXAWPFA"
      }
    },
    {
      "cell_type": "code",
      "source": [
        ""
      ],
      "metadata": {
        "id": "3QnrtFwygxTS"
      },
      "execution_count": null,
      "outputs": []
    },
    {
      "cell_type": "code",
      "source": [
        "def describe_mat(matrix):\n",
        "    if matrix.size > 0:\n",
        "        is_square = True if matrix.shape[0] == matrix.shape[1] else False \n",
        "        print(f'Matrix:\\n{matrix}\\n\\nShape:\\t{matrix.shape}\\nRank:\\t{matrix.ndim}\\nIs Square: {is_square}\\n')\n",
        "    else:\n",
        "        print('Matrix is Null')\n"
      ],
      "metadata": {
        "id": "1avcfC9yWQZi"
      },
      "execution_count": null,
      "outputs": []
    },
    {
      "cell_type": "code",
      "source": [
        "null_mat = np.array([])\n",
        "describe_mat(null_mat)\n"
      ],
      "metadata": {
        "colab": {
          "base_uri": "https://localhost:8080/"
        },
        "id": "PsfG72ySWYZt",
        "outputId": "d43c2b02-cb1d-48bc-b66d-737ec1cd0b52"
      },
      "execution_count": null,
      "outputs": [
        {
          "output_type": "stream",
          "name": "stdout",
          "text": [
            "Matrix is Null\n"
          ]
        }
      ]
    },
    {
      "cell_type": "markdown",
      "source": [
        "###Zero Matrix"
      ],
      "metadata": {
        "id": "p0IXHLkeXMNe"
      }
    },
    {
      "cell_type": "code",
      "source": [
        "zero_mat_row = np.zeros((1,2))\n",
        "zero_mat_sqr = np.zeros((2,2))\n",
        "zero_mat_rct = np.zeros((3,2))\n",
        "\n",
        "print(f'Zero Row Matrix: \\n{zero_mat_row}')\n",
        "print(f'Zero Square Matrix: \\n{zero_mat_sqr}')\n",
        "print(f'Zero Rectangular Matrix: \\n{zero_mat_rct}')\n"
      ],
      "metadata": {
        "colab": {
          "base_uri": "https://localhost:8080/"
        },
        "id": "FBVFoq0TXOmp",
        "outputId": "7dbcccba-0a6d-4fe1-9420-5b2105661fe3"
      },
      "execution_count": null,
      "outputs": [
        {
          "output_type": "stream",
          "name": "stdout",
          "text": [
            "Zero Row Matrix: \n",
            "[[0. 0.]]\n",
            "Zero Square Matrix: \n",
            "[[0. 0.]\n",
            " [0. 0.]]\n",
            "Zero Rectangular Matrix: \n",
            "[[0. 0.]\n",
            " [0. 0.]\n",
            " [0. 0.]]\n"
          ]
        }
      ]
    },
    {
      "cell_type": "markdown",
      "source": [
        "###Ones Matrix"
      ],
      "metadata": {
        "id": "xGTtZgMtXr9R"
      }
    },
    {
      "cell_type": "code",
      "source": [
        "ones_mat_row = np.ones((1,2))\n",
        "ones_mat_sqr = np.ones((2,2))\n",
        "ones_mat_rct = np.ones((3,2))\n",
        "\n",
        "print(f'Ones Row Matrix: \\n{ones_mat_row}')\n",
        "print(f'Ones Square Matrix: \\n{ones_mat_sqr}')\n",
        "print(f'Ones Rectangular Matrix: \\n{ones_mat_rct}')\n"
      ],
      "metadata": {
        "colab": {
          "base_uri": "https://localhost:8080/"
        },
        "id": "vR1PsXusXxp4",
        "outputId": "6d389b4b-196f-4adc-cd14-ab27a6bc7159"
      },
      "execution_count": null,
      "outputs": [
        {
          "output_type": "stream",
          "name": "stdout",
          "text": [
            "Ones Row Matrix: \n",
            "[[1. 1.]]\n",
            "Ones Square Matrix: \n",
            "[[1. 1.]\n",
            " [1. 1.]]\n",
            "Ones Rectangular Matrix: \n",
            "[[1. 1.]\n",
            " [1. 1.]\n",
            " [1. 1.]]\n"
          ]
        }
      ]
    },
    {
      "cell_type": "markdown",
      "source": [
        "###Diagonal Matrix"
      ],
      "metadata": {
        "id": "JzoGu0IoX5UJ"
      }
    },
    {
      "cell_type": "code",
      "source": [
        "np.array([\n",
        "    [2,0,0],\n",
        "    [0,3,0],\n",
        "    [0,0,5]\n",
        "])\n"
      ],
      "metadata": {
        "colab": {
          "base_uri": "https://localhost:8080/"
        },
        "id": "SXIECT3oX7kB",
        "outputId": "4dc58fc9-5378-4f77-f2d1-0f7964225e6e"
      },
      "execution_count": null,
      "outputs": [
        {
          "output_type": "execute_result",
          "data": {
            "text/plain": [
              "array([[2, 0, 0],\n",
              "       [0, 3, 0],\n",
              "       [0, 0, 5]])"
            ]
          },
          "metadata": {},
          "execution_count": 40
        }
      ]
    },
    {
      "cell_type": "code",
      "source": [
        "d = np.diag([2,3,5,7])\n",
        "d\n"
      ],
      "metadata": {
        "colab": {
          "base_uri": "https://localhost:8080/"
        },
        "id": "v9vBv19-YLhD",
        "outputId": "867fb4ac-f26a-444e-e7c9-8a29e1a60799"
      },
      "execution_count": null,
      "outputs": [
        {
          "output_type": "execute_result",
          "data": {
            "text/plain": [
              "array([[2, 0, 0, 0],\n",
              "       [0, 3, 0, 0],\n",
              "       [0, 0, 5, 0],\n",
              "       [0, 0, 0, 7]])"
            ]
          },
          "metadata": {},
          "execution_count": 43
        }
      ]
    },
    {
      "cell_type": "markdown",
      "source": [
        "###Identity Matrix"
      ],
      "metadata": {
        "id": "dz3pjaeaYxr5"
      }
    },
    {
      "cell_type": "code",
      "source": [
        "np.eye(3)\n"
      ],
      "metadata": {
        "colab": {
          "base_uri": "https://localhost:8080/"
        },
        "id": "mPBcyeenY0LN",
        "outputId": "f4429c78-c74e-4391-aacc-d822a2194d40"
      },
      "execution_count": null,
      "outputs": [
        {
          "output_type": "execute_result",
          "data": {
            "text/plain": [
              "array([[1., 0., 0.],\n",
              "       [0., 1., 0.],\n",
              "       [0., 0., 1.]])"
            ]
          },
          "metadata": {},
          "execution_count": 44
        }
      ]
    },
    {
      "cell_type": "code",
      "source": [
        "np.identity(10)\n"
      ],
      "metadata": {
        "colab": {
          "base_uri": "https://localhost:8080/"
        },
        "id": "X5O7qL_0ZLaH",
        "outputId": "b87e3c15-fdc4-4738-d075-b12a7fca0621"
      },
      "execution_count": null,
      "outputs": [
        {
          "output_type": "execute_result",
          "data": {
            "text/plain": [
              "array([[1., 0., 0., 0., 0., 0., 0., 0., 0., 0.],\n",
              "       [0., 1., 0., 0., 0., 0., 0., 0., 0., 0.],\n",
              "       [0., 0., 1., 0., 0., 0., 0., 0., 0., 0.],\n",
              "       [0., 0., 0., 1., 0., 0., 0., 0., 0., 0.],\n",
              "       [0., 0., 0., 0., 1., 0., 0., 0., 0., 0.],\n",
              "       [0., 0., 0., 0., 0., 1., 0., 0., 0., 0.],\n",
              "       [0., 0., 0., 0., 0., 0., 1., 0., 0., 0.],\n",
              "       [0., 0., 0., 0., 0., 0., 0., 1., 0., 0.],\n",
              "       [0., 0., 0., 0., 0., 0., 0., 0., 1., 0.],\n",
              "       [0., 0., 0., 0., 0., 0., 0., 0., 0., 1.]])"
            ]
          },
          "metadata": {},
          "execution_count": 45
        }
      ]
    },
    {
      "cell_type": "markdown",
      "source": [
        "###Upper Triangular Matrix\n"
      ],
      "metadata": {
        "id": "5t2JJO5-ZNgJ"
      }
    },
    {
      "cell_type": "code",
      "source": [
        "np.array([\n",
        "    [1,2,3,4],\n",
        "    [0,3,1,-1],\n",
        "    [0,0,5,2],\n",
        "    [0,0,0,2]\n",
        "])\n"
      ],
      "metadata": {
        "colab": {
          "base_uri": "https://localhost:8080/"
        },
        "id": "enwJS56FZjtP",
        "outputId": "8078a4bd-4681-4a74-c9e3-efe34b88c00d"
      },
      "execution_count": null,
      "outputs": [
        {
          "output_type": "execute_result",
          "data": {
            "text/plain": [
              "array([[ 1,  2,  3,  4],\n",
              "       [ 0,  3,  1, -1],\n",
              "       [ 0,  0,  5,  2],\n",
              "       [ 0,  0,  0,  2]])"
            ]
          },
          "metadata": {},
          "execution_count": 46
        }
      ]
    },
    {
      "cell_type": "code",
      "source": [
        "F = np.array([\n",
        "              [2, -3, 4, -5, 6],\n",
        "              [2, -3, 4, -5, 6],\n",
        "              [2, -3, 4, -5, 6],\n",
        "              [2, -3, 4, -5, 6],\n",
        "              [2, -3, 4, -5, 6],\n",
        "])\n",
        "np.triu(F)\n"
      ],
      "metadata": {
        "colab": {
          "base_uri": "https://localhost:8080/"
        },
        "id": "daM_8LRZZyOy",
        "outputId": "55634c1e-a79a-4ac4-e078-1e165ee63cb8"
      },
      "execution_count": null,
      "outputs": [
        {
          "output_type": "execute_result",
          "data": {
            "text/plain": [
              "array([[ 2, -3,  4, -5,  6],\n",
              "       [ 0, -3,  4, -5,  6],\n",
              "       [ 0,  0,  4, -5,  6],\n",
              "       [ 0,  0,  0, -5,  6],\n",
              "       [ 0,  0,  0,  0,  6]])"
            ]
          },
          "metadata": {},
          "execution_count": 47
        }
      ]
    },
    {
      "cell_type": "markdown",
      "source": [
        "###Lower Triangular Matrix"
      ],
      "metadata": {
        "id": "cvVS6gquZg58"
      }
    },
    {
      "cell_type": "code",
      "source": [
        "np.tril(F)\n"
      ],
      "metadata": {
        "colab": {
          "base_uri": "https://localhost:8080/"
        },
        "id": "_fbreBx3ZwAf",
        "outputId": "f7451f4b-e24e-408a-e0fb-c8e227fdd991"
      },
      "execution_count": null,
      "outputs": [
        {
          "output_type": "execute_result",
          "data": {
            "text/plain": [
              "array([[ 2,  0,  0,  0,  0],\n",
              "       [ 2, -3,  0,  0,  0],\n",
              "       [ 2, -3,  4,  0,  0],\n",
              "       [ 2, -3,  4, -5,  0],\n",
              "       [ 2, -3,  4, -5,  6]])"
            ]
          },
          "metadata": {},
          "execution_count": 48
        }
      ]
    },
    {
      "cell_type": "markdown",
      "source": [
        "#Practice\n"
      ],
      "metadata": {
        "id": "ysFVAzsFih4B"
      }
    },
    {
      "cell_type": "markdown",
      "source": [
        "####1.Given the linear combination below, try to create a corresponding matrix representing it."
      ],
      "metadata": {
        "id": "knMkINBniktm"
      }
    },
    {
      "cell_type": "markdown",
      "source": [
        "\n",
        ":$$\\theta = 6x + 12y - z$$"
      ],
      "metadata": {
        "id": "7tXQxXfpjfiI"
      }
    },
    {
      "cell_type": "code",
      "source": [
        "Theta = np.array([\n",
        "    [6,12,-1],\n",
        "  \n",
        "])"
      ],
      "metadata": {
        "id": "qr1XF_MdpSV3"
      },
      "execution_count": null,
      "outputs": []
    },
    {
      "cell_type": "markdown",
      "source": [
        "2. Given the system of linear combinations below, try to encode it as a matrix. Also describe the matrix.\n",
        "\n",
        "$$\n",
        "B = \\left\\{\\begin{array}\n",
        "4x_3 + 2x_2 + x_1\\\\\n",
        "9x_3 - 5x_2 + 4x_1\\\\\n",
        "60x_3 + 6x_2 + 5x_1\n",
        "\\end{array}\\right.\n",
        "$$\n"
      ],
      "metadata": {
        "id": "r7RRkAUZa-Ns"
      }
    },
    {
      "cell_type": "code",
      "source": [
        "def mat_desc(mat):\n",
        "    sq = False\n",
        "    mat = np.array(mat)\n",
        "    print(mat)\n",
        "    print('Shape:', mat.shape)\n",
        "    print('Size:', mat.size)\n",
        "    print('Rank:', np.linalg.matrix_rank(mat))\n",
        "    if(mat.shape[0] == mat.shape[1]):\n",
        "        sq = True\n",
        "        print('The matrix is a square matrix')\n",
        "    else:\n",
        "        print('The matrix is a non-square matrix')\n",
        "    if(mat.shape[0] == 0 and mat.shape[1] == 0):\n",
        "        print('The matrix is empty')\n",
        "    else:\n",
        "        print('The matrix is not empty')\n",
        "    iden = np.identity(mat.shape[0])\n",
        "    if(sq and (iden == mat).all()):\n",
        "        print('The matrix is an identity matrix')\n",
        "    else:\n",
        "        print('The matrix is not an identity matrix')\n",
        "    one = np.ones((mat.shape[0], mat.shape[1]))\n",
        "    if((one == mat).all()):\n",
        "        print('The matrix is a ones matrix')\n",
        "    else:\n",
        "        print('The matrix is not a ones matrix')\n",
        "    zero = np.zeros((mat.shape[0], mat.shape[1]))\n",
        "    if((zero == mat).all()):\n",
        "        print('The matrix is a zeros matrix')\n",
        "    else:\n",
        "      print('The matrix is not a zeros matrix')"
      ],
      "metadata": {
        "id": "L7D23TeKpfPy"
      },
      "execution_count": null,
      "outputs": []
    },
    {
      "cell_type": "code",
      "source": [
        "print ('Matrix 10:')\n",
        "RM10 = np.array([\n",
        "    [1,2,1],\n",
        "    [9,-5,4],\n",
        "    [60,6,5]])\n",
        "\n",
        "mat_desc(RM10)"
      ],
      "metadata": {
        "colab": {
          "base_uri": "https://localhost:8080/"
        },
        "id": "iVL35YGNpg52",
        "outputId": "6a5ee4e5-4861-4d4a-bec4-3f7783c9ef99"
      },
      "execution_count": null,
      "outputs": [
        {
          "output_type": "stream",
          "name": "stdout",
          "text": [
            "Matrix 10:\n",
            "[[ 1  2  1]\n",
            " [ 9 -5  4]\n",
            " [60  6  5]]\n",
            "Shape: (3, 3)\n",
            "Size: 9\n",
            "Rank: 3\n",
            "The matrix is a square matrix\n",
            "The matrix is not empty\n",
            "The matrix is not an identity matrix\n",
            "The matrix is not a ones matrix\n",
            "The matrix is not a zeros matrix\n"
          ]
        }
      ]
    },
    {
      "cell_type": "markdown",
      "source": [
        "3. Given the matrix below, express it as a linear combination in a markdown and a LaTeX markdown\n",
        "\n"
      ],
      "metadata": {
        "id": "KUAwU0rNbGiV"
      }
    },
    {
      "cell_type": "code",
      "source": [
        "B = np.array([\n",
        "    [0,4,7],\n",
        "    [3,4,9],\n",
        "    [123,32,321]\n",
        "])\n"
      ],
      "metadata": {
        "id": "sY-J89_PbK6i"
      },
      "execution_count": null,
      "outputs": []
    },
    {
      "cell_type": "markdown",
      "source": [
        "$$\n",
        "B = \\left\\{\\begin{array}\n",
        "6x_3 + 4x_2 + 7x_1\\\\\n",
        "3x_3 + 4x_2 + 9x\\\\\n",
        "123x_3 + 32x_2 + 321x\n",
        "\\end{array}\\right.\n",
        "$$"
      ],
      "metadata": {
        "id": "x3YATr-8oE3n"
      }
    },
    {
      "cell_type": "markdown",
      "source": [
        "4. Given the matrix below, display the output as a LaTeX markdown also express it as a system of linear combinations.\n"
      ],
      "metadata": {
        "id": "Ll_T8biRbN_2"
      }
    },
    {
      "cell_type": "markdown",
      "source": [
        "$$\n",
        "H = \\left\\{\\begin{array}\n",
        "6x_3 + 0x_2 + 0x_1\\\\\n",
        "3x_3 + 4x_2 + 0x_1\\\\\n",
        "123x_3 + 32x_2 + 321x1\n",
        "\\end{array}\\right.\n",
        "$$"
      ],
      "metadata": {
        "id": "Xg7kCIqrp5xR"
      }
    },
    {
      "cell_type": "code",
      "source": [
        "H = np.tril(G)\n",
        "H\n"
      ],
      "metadata": {
        "colab": {
          "base_uri": "https://localhost:8080/"
        },
        "id": "bXNGbyd5bR1k",
        "outputId": "81f70e23-cffc-4381-9e9d-633f9a469aaf"
      },
      "execution_count": null,
      "outputs": [
        {
          "output_type": "execute_result",
          "data": {
            "text/plain": [
              "array([[  6,   0,   0],\n",
              "       [  3,   4,   0],\n",
              "       [123,  32, 321]])"
            ]
          },
          "metadata": {},
          "execution_count": 6
        }
      ]
    },
    {
      "cell_type": "markdown",
      "source": [
        "#Matrix Algebra"
      ],
      "metadata": {
        "id": "RwHPavaFkwJk"
      }
    },
    {
      "cell_type": "markdown",
      "source": [
        "####Addition\n"
      ],
      "metadata": {
        "id": "vVJTakq0kyVe"
      }
    },
    {
      "cell_type": "code",
      "source": [
        "A = np.array([\n",
        "    [6,7],\n",
        "    [5,9],\n",
        "    [5,3]\n",
        "])\n",
        "B = np.array([\n",
        "    [3,1],\n",
        "    [9,3],\n",
        "    [2,9]\n",
        "])\n",
        "A+B"
      ],
      "metadata": {
        "colab": {
          "base_uri": "https://localhost:8080/"
        },
        "id": "cazLi_9Fk0fY",
        "outputId": "6ddc769a-4bb9-49f6-e774-ae9a7518057b"
      },
      "execution_count": null,
      "outputs": [
        {
          "output_type": "execute_result",
          "data": {
            "text/plain": [
              "array([[ 9,  8],\n",
              "       [14, 12],\n",
              "       [ 7, 12]])"
            ]
          },
          "metadata": {},
          "execution_count": 17
        }
      ]
    },
    {
      "cell_type": "code",
      "source": [
        "2+A ##Broadcasting\n",
        "# 2*np.ones(A.shape)+A\n"
      ],
      "metadata": {
        "colab": {
          "base_uri": "https://localhost:8080/"
        },
        "id": "hsEQv7Mbk-hY",
        "outputId": "75b6ac10-e213-402d-93c5-23d6d6f150a0"
      },
      "execution_count": null,
      "outputs": [
        {
          "output_type": "execute_result",
          "data": {
            "text/plain": [
              "array([[ 8,  9],\n",
              "       [ 7, 11],\n",
              "       [ 7,  5]])"
            ]
          },
          "metadata": {},
          "execution_count": 18
        }
      ]
    },
    {
      "cell_type": "markdown",
      "source": [
        "####Subtraction\n"
      ],
      "metadata": {
        "id": "LP6emD3elArC"
      }
    },
    {
      "cell_type": "code",
      "source": [
        "A-B"
      ],
      "metadata": {
        "colab": {
          "base_uri": "https://localhost:8080/"
        },
        "id": "ZmsoRE4SlCi5",
        "outputId": "6366e2d3-d637-4468-fc12-48fab01acbdd"
      },
      "execution_count": null,
      "outputs": [
        {
          "output_type": "execute_result",
          "data": {
            "text/plain": [
              "array([[ 3,  6],\n",
              "       [-4,  6],\n",
              "       [ 3, -6]])"
            ]
          },
          "metadata": {},
          "execution_count": 19
        }
      ]
    },
    {
      "cell_type": "code",
      "source": [
        "3-B == 3*np.ones(B.shape)-B"
      ],
      "metadata": {
        "colab": {
          "base_uri": "https://localhost:8080/"
        },
        "id": "e53ieg4mlEmy",
        "outputId": "539e9147-0a8f-4c3b-de52-abb8f27469f3"
      },
      "execution_count": null,
      "outputs": [
        {
          "output_type": "execute_result",
          "data": {
            "text/plain": [
              "array([[ True,  True],\n",
              "       [ True,  True],\n",
              "       [ True,  True]])"
            ]
          },
          "metadata": {},
          "execution_count": 20
        }
      ]
    },
    {
      "cell_type": "markdown",
      "source": [
        "####Elementary-wise Multiplication"
      ],
      "metadata": {
        "id": "DWp2fWqflGyz"
      }
    },
    {
      "cell_type": "code",
      "source": [
        "A*B\n",
        "np.multiply(A,B)"
      ],
      "metadata": {
        "colab": {
          "base_uri": "https://localhost:8080/"
        },
        "id": "2brp-9gAlLUj",
        "outputId": "ed4df1e6-8b1b-478d-f5ee-87f88fed3a29"
      },
      "execution_count": null,
      "outputs": [
        {
          "output_type": "execute_result",
          "data": {
            "text/plain": [
              "array([[18,  7],\n",
              "       [45, 27],\n",
              "       [10, 27]])"
            ]
          },
          "metadata": {},
          "execution_count": 21
        }
      ]
    },
    {
      "cell_type": "code",
      "source": [
        "2*A"
      ],
      "metadata": {
        "colab": {
          "base_uri": "https://localhost:8080/"
        },
        "id": "HcPcWNAylN0N",
        "outputId": "54c920d4-c4e3-4975-d7b0-df6109808c10"
      },
      "execution_count": null,
      "outputs": [
        {
          "output_type": "execute_result",
          "data": {
            "text/plain": [
              "array([[12, 14],\n",
              "       [10, 18],\n",
              "       [10,  6]])"
            ]
          },
          "metadata": {},
          "execution_count": 22
        }
      ]
    },
    {
      "cell_type": "code",
      "source": [
        "\n",
        "A@B"
      ],
      "metadata": {
        "colab": {
          "base_uri": "https://localhost:8080/",
          "height": 184
        },
        "id": "LuINC6umlYGg",
        "outputId": "e3cefde6-524c-448e-8757-6a44be1abecb"
      },
      "execution_count": null,
      "outputs": [
        {
          "output_type": "error",
          "ename": "ValueError",
          "evalue": "ignored",
          "traceback": [
            "\u001b[0;31m---------------------------------------------------------------------------\u001b[0m",
            "\u001b[0;31mValueError\u001b[0m                                Traceback (most recent call last)",
            "\u001b[0;32m<ipython-input-23-f147cada5acf>\u001b[0m in \u001b[0;36m<module>\u001b[0;34m()\u001b[0m\n\u001b[1;32m      1\u001b[0m \u001b[0;34m\u001b[0m\u001b[0m\n\u001b[0;32m----> 2\u001b[0;31m \u001b[0mA\u001b[0m\u001b[0;34m@\u001b[0m\u001b[0mB\u001b[0m\u001b[0;34m\u001b[0m\u001b[0;34m\u001b[0m\u001b[0m\n\u001b[0m",
            "\u001b[0;31mValueError\u001b[0m: matmul: Input operand 1 has a mismatch in its core dimension 0, with gufunc signature (n?,k),(k,m?)->(n?,m?) (size 3 is different from 2)"
          ]
        }
      ]
    },
    {
      "cell_type": "code",
      "source": [
        "alpha=10**-10\n",
        "A/(alpha+B)"
      ],
      "metadata": {
        "colab": {
          "base_uri": "https://localhost:8080/"
        },
        "id": "C1MITf3dlgJq",
        "outputId": "d7c3bc76-04f4-4c85-b2de-d7d6f7d2dcb9"
      },
      "execution_count": null,
      "outputs": [
        {
          "output_type": "execute_result",
          "data": {
            "text/plain": [
              "array([[2.        , 7.        ],\n",
              "       [0.55555556, 3.        ],\n",
              "       [2.5       , 0.33333333]])"
            ]
          },
          "metadata": {},
          "execution_count": 24
        }
      ]
    },
    {
      "cell_type": "code",
      "source": [
        "np.add(A,B)"
      ],
      "metadata": {
        "colab": {
          "base_uri": "https://localhost:8080/"
        },
        "id": "z8z09jg8loWg",
        "outputId": "1a9ec631-da84-4b69-e13c-2cd57295541d"
      },
      "execution_count": null,
      "outputs": [
        {
          "output_type": "execute_result",
          "data": {
            "text/plain": [
              "array([[ 9,  8],\n",
              "       [14, 12],\n",
              "       [ 7, 12]])"
            ]
          },
          "metadata": {},
          "execution_count": 25
        }
      ]
    },
    {
      "cell_type": "markdown",
      "source": [
        "#Activity"
      ],
      "metadata": {
        "id": "yyjnwecul4ra"
      }
    },
    {
      "cell_type": "markdown",
      "source": [
        "####Task1"
      ],
      "metadata": {
        "id": "L_MUhbf4l8qX"
      }
    },
    {
      "cell_type": "markdown",
      "source": [
        "#####Create a function named mat_desc() that througouhly describes a matrix, it should:\n",
        "\n",
        "Displays the shape, size, and rank of the matrix. Displays whether the matrix is square or non-square. Displays whether the matrix is an empty matrix. Displays if the matrix is an identity, ones, or zeros matrix Use 5 sample matrices in which their shapes are not lower than(3,3) . In your methodology, create a flowchart discuss the functions and methods you have done. Present your results in the results section showing the description of each matrix you have declared."
      ],
      "metadata": {
        "id": "1V7494-jmB9P"
      }
    },
    {
      "cell_type": "code",
      "source": [
        "def mat_desc(mat):\n",
        "    sq = False\n",
        "    mat = np.array(mat)\n",
        "    print(mat)\n",
        "    print('Shape:', mat.shape)\n",
        "    print('Size:', mat.size)\n",
        "    print('Rank:', np.linalg.matrix_rank(mat))\n",
        "    if(mat.shape[0] == mat.shape[1]):\n",
        "        sq = True\n",
        "        print('The matrix is a square matrix')\n",
        "    else:\n",
        "        print('The matrix is a non-square matrix')\n",
        "    if(mat.shape[0] == 0 and mat.shape[1] == 0):\n",
        "        print('The matrix is empty')\n",
        "    else:\n",
        "        print('The matrix is not empty')\n",
        "    iden = np.identity(mat.shape[0])\n",
        "    if(sq and (iden == mat).all()):\n",
        "        print('The matrix is an identity matrix')\n",
        "    else:\n",
        "        print('The matrix is not an identity matrix')\n",
        "    one = np.ones((mat.shape[0], mat.shape[1]))\n",
        "    if((one == mat).all()):\n",
        "        print('The matrix is a ones matrix')\n",
        "    else:\n",
        "        print('The matrix is not a ones matrix')\n",
        "    zero = np.zeros((mat.shape[0], mat.shape[1]))\n",
        "    if((zero == mat).all()):\n",
        "        print('The matrix is a zeros matrix')\n",
        "    else:\n",
        "      print('The matrix is not a zeros matrix')"
      ],
      "metadata": {
        "id": "zGLvS1romHQo"
      },
      "execution_count": null,
      "outputs": []
    },
    {
      "cell_type": "code",
      "source": [
        "print ('Matrix 1:')\n",
        "RM1 = np.array([\n",
        "    [1,0,0],\n",
        "    [5,3,0],\n",
        "    [7,8,5]])\n",
        "\n",
        "mat_desc(RM1)"
      ],
      "metadata": {
        "colab": {
          "base_uri": "https://localhost:8080/"
        },
        "id": "lQwkKcKHmJ_f",
        "outputId": "3cb60083-f914-47cc-c127-23dc616fe4a4"
      },
      "execution_count": null,
      "outputs": [
        {
          "output_type": "stream",
          "name": "stdout",
          "text": [
            "Matrix 1:\n",
            "[[1 0 0]\n",
            " [5 3 0]\n",
            " [7 8 5]]\n",
            "Shape: (3, 3)\n",
            "Size: 9\n",
            "Rank: 3\n",
            "The matrix is a square matrix\n",
            "The matrix is not empty\n",
            "The matrix is not an identity matrix\n",
            "The matrix is not a ones matrix\n",
            "The matrix is not a zeros matrix\n"
          ]
        }
      ]
    },
    {
      "cell_type": "code",
      "source": [
        "print ('Matrix 2:')\n",
        "RM2 = np.array([\n",
        "    [0,0,0],\n",
        "    [0,0,0],\n",
        "    [0,0,0]])\n",
        "\n",
        "mat_desc(RM2)"
      ],
      "metadata": {
        "colab": {
          "base_uri": "https://localhost:8080/"
        },
        "id": "cIFz1SrgmUA0",
        "outputId": "16a6b682-37fb-4859-fd05-c0f1026cd4ba"
      },
      "execution_count": null,
      "outputs": [
        {
          "output_type": "stream",
          "name": "stdout",
          "text": [
            "Matrix 2:\n",
            "[[0 0 0]\n",
            " [0 0 0]\n",
            " [0 0 0]]\n",
            "Shape: (3, 3)\n",
            "Size: 9\n",
            "Rank: 0\n",
            "The matrix is a square matrix\n",
            "The matrix is not empty\n",
            "The matrix is not an identity matrix\n",
            "The matrix is not a ones matrix\n",
            "The matrix is a zeros matrix\n"
          ]
        }
      ]
    },
    {
      "cell_type": "code",
      "source": [
        "print ('Matrix 3:')\n",
        "RM3 = np.array([\n",
        "    [1,1,1],\n",
        "    [1,1,1],\n",
        "    [1,1,1]])\n",
        "\n",
        "mat_desc(RM3)"
      ],
      "metadata": {
        "colab": {
          "base_uri": "https://localhost:8080/"
        },
        "id": "78YjW9rVmVqA",
        "outputId": "c1131301-293d-406e-9c98-90d1f31995c3"
      },
      "execution_count": null,
      "outputs": [
        {
          "output_type": "stream",
          "name": "stdout",
          "text": [
            "Matrix 3:\n",
            "[[1 1 1]\n",
            " [1 1 1]\n",
            " [1 1 1]]\n",
            "Shape: (3, 3)\n",
            "Size: 9\n",
            "Rank: 1\n",
            "The matrix is a square matrix\n",
            "The matrix is not empty\n",
            "The matrix is not an identity matrix\n",
            "The matrix is a ones matrix\n",
            "The matrix is not a zeros matrix\n"
          ]
        }
      ]
    },
    {
      "cell_type": "code",
      "source": [
        "print ('Matrix 4:')\n",
        "RM4 = np.array([\n",
        "    [7,12,3],\n",
        "    [12,32,51],\n",
        "    [32,51,13]])\n",
        "\n",
        "mat_desc(RM4)"
      ],
      "metadata": {
        "colab": {
          "base_uri": "https://localhost:8080/"
        },
        "id": "AY69Cz4DmXFm",
        "outputId": "2b2e8520-8dce-46f2-90d1-b96d11494261"
      },
      "execution_count": null,
      "outputs": [
        {
          "output_type": "stream",
          "name": "stdout",
          "text": [
            "Matrix 4:\n",
            "[[ 7 12  3]\n",
            " [12 32 51]\n",
            " [32 51 13]]\n",
            "Shape: (3, 3)\n",
            "Size: 9\n",
            "Rank: 3\n",
            "The matrix is a square matrix\n",
            "The matrix is not empty\n",
            "The matrix is not an identity matrix\n",
            "The matrix is not a ones matrix\n",
            "The matrix is not a zeros matrix\n"
          ]
        }
      ]
    },
    {
      "cell_type": "code",
      "source": [
        "print ('Matrix 5:')\n",
        "RM5 = np.array ([\n",
        "    [69,32,34],\n",
        "    [134,66,16],\n",
        "    [26,2001,2000]])\n",
        "\n",
        "mat_desc(RM5)"
      ],
      "metadata": {
        "colab": {
          "base_uri": "https://localhost:8080/"
        },
        "id": "eyxjB1fVmZCO",
        "outputId": "567fab9b-1e3c-4aa4-d285-a0c427df9cc1"
      },
      "execution_count": null,
      "outputs": [
        {
          "output_type": "stream",
          "name": "stdout",
          "text": [
            "Matrix 5:\n",
            "[[  69   32   34]\n",
            " [ 134   66   16]\n",
            " [  26 2001 2000]]\n",
            "Shape: (3, 3)\n",
            "Size: 9\n",
            "Rank: 3\n",
            "The matrix is a square matrix\n",
            "The matrix is not empty\n",
            "The matrix is not an identity matrix\n",
            "The matrix is not a ones matrix\n",
            "The matrix is not a zeros matrix\n"
          ]
        }
      ]
    },
    {
      "cell_type": "markdown",
      "source": [
        "#Task 2"
      ],
      "metadata": {
        "id": "WrygN_TmmlcY"
      }
    },
    {
      "cell_type": "markdown",
      "source": [
        "#####Create a function named mat_operations() that takes in two matrices a input parameters it should:\n",
        "\n",
        "Determines if the matrices are viable for operation and returns your own error message if they are not viable. Returns the sum of the matrices. Returns the differen of the matrices. Returns the element-wise multiplication of the matrices. Returns the element-wise division of the matrices. Use 5 sample matrices in which their shapes are not lower than(3,3) . In your methodology, create a flowchart discuss the functions and methods you have done. Present your results in the results section showing the description of each matrix you have declared."
      ],
      "metadata": {
        "id": "GsxJQRkSmm9M"
      }
    },
    {
      "cell_type": "code",
      "source": [
        "import numpy as np\n",
        "import matplotlib.pyplot as plt\n",
        "import scipy.linalg as la\n",
        "%matplotlib inline"
      ],
      "metadata": {
        "id": "RQVDJQi_mo-g"
      },
      "execution_count": null,
      "outputs": []
    },
    {
      "cell_type": "code",
      "source": [
        "def mat_operations(mat1, mat2):\n",
        "    mat1 = np.array(mat1)\n",
        "    mat2 = np.array(mat2)\n",
        "    print('Matrix 1:', mat1)\n",
        "    print('Matrix 2:', mat2)\n",
        "    if(mat1.shape != mat2.shape):\n",
        "        print('The shape of both matrices are not the same. Could not perform operations.')\n",
        "        return\n",
        "    print('Sum of the given matrices:')\n",
        "    msum = mat1 + mat2\n",
        "    print(msum)\n",
        "    print('Difference of the given matrices:')\n",
        "    mdiff = mat1 - mat2\n",
        "    print(mdiff)\n",
        "    print('Element-wise multiplication of the matrices:')\n",
        "    mmul = np.multiply(mat1, mat2)\n",
        "    print(mmul)\n",
        "    print('Element-wise division of the matrices:')\n",
        "    mmul = np.divide(mat1, mat2)\n",
        "    print(mmul)"
      ],
      "metadata": {
        "id": "aYRuNuEjmqlO"
      },
      "execution_count": null,
      "outputs": []
    },
    {
      "cell_type": "code",
      "source": [
        "print('Sample Case: 1')\n",
        "mat_operations([[7, 12, 3], [12, 32, 51], [32, 51, 13]], [[7, 12, 3], [12, 3, 5], [2, 1, 1]])\n",
        "print('Sample Case: 2')\n",
        "mat_operations([[7, 2, 3], [2, 2, 1], [2, 1, 3]], [[8, 2, 7], [2, 3, 5], [2 , 1, 1]])\n",
        "print('Sample Case: 3')\n",
        "mat_operations([[7, 2, 3], [12, 2, 1], [3, 1, 13]], [[7, 1, 2, 3], [1, 2, 3, 5], [0, 7, 3, 5], [2, 1, 1, 4]])\n",
        "print('Sample Case: 4')\n",
        "mat_operations([[0, 0, 0], [2, 0, 1], [0, 1, 3]], [[1, 0, 0], [2, 3, 5], [0, 0, 1]])\n",
        "print('Sample Case: 5')\n",
        "mat_operations([[7, 1, 2, 3], [1, 2, 3, 5], [0, 7, 3, 5]], [[7, 2, 3], [12, 2, 1], [3, 1, 13]])"
      ],
      "metadata": {
        "colab": {
          "base_uri": "https://localhost:8080/"
        },
        "id": "9MyDNhznmtMn",
        "outputId": "92ddaa8f-1970-416d-e779-ace4b6d03f47"
      },
      "execution_count": null,
      "outputs": [
        {
          "output_type": "stream",
          "name": "stdout",
          "text": [
            "Sample Case: 1\n",
            "Matrix 1: [[ 7 12  3]\n",
            " [12 32 51]\n",
            " [32 51 13]]\n",
            "Matrix 2: [[ 7 12  3]\n",
            " [12  3  5]\n",
            " [ 2  1  1]]\n",
            "Sum of the given matrices:\n",
            "[[14 24  6]\n",
            " [24 35 56]\n",
            " [34 52 14]]\n",
            "Difference of the given matrices:\n",
            "[[ 0  0  0]\n",
            " [ 0 29 46]\n",
            " [30 50 12]]\n",
            "Element-wise multiplication of the matrices:\n",
            "[[ 49 144   9]\n",
            " [144  96 255]\n",
            " [ 64  51  13]]\n",
            "Element-wise division of the matrices:\n",
            "[[ 1.          1.          1.        ]\n",
            " [ 1.         10.66666667 10.2       ]\n",
            " [16.         51.         13.        ]]\n",
            "Sample Case: 2\n",
            "Matrix 1: [[7 2 3]\n",
            " [2 2 1]\n",
            " [2 1 3]]\n",
            "Matrix 2: [[8 2 7]\n",
            " [2 3 5]\n",
            " [2 1 1]]\n",
            "Sum of the given matrices:\n",
            "[[15  4 10]\n",
            " [ 4  5  6]\n",
            " [ 4  2  4]]\n",
            "Difference of the given matrices:\n",
            "[[-1  0 -4]\n",
            " [ 0 -1 -4]\n",
            " [ 0  0  2]]\n",
            "Element-wise multiplication of the matrices:\n",
            "[[56  4 21]\n",
            " [ 4  6  5]\n",
            " [ 4  1  3]]\n",
            "Element-wise division of the matrices:\n",
            "[[0.875      1.         0.42857143]\n",
            " [1.         0.66666667 0.2       ]\n",
            " [1.         1.         3.        ]]\n",
            "Sample Case: 3\n",
            "Matrix 1: [[ 7  2  3]\n",
            " [12  2  1]\n",
            " [ 3  1 13]]\n",
            "Matrix 2: [[7 1 2 3]\n",
            " [1 2 3 5]\n",
            " [0 7 3 5]\n",
            " [2 1 1 4]]\n",
            "The shape of both matrices are not the same. Could not perform operations.\n",
            "Sample Case: 4\n",
            "Matrix 1: [[0 0 0]\n",
            " [2 0 1]\n",
            " [0 1 3]]\n",
            "Matrix 2: [[1 0 0]\n",
            " [2 3 5]\n",
            " [0 0 1]]\n",
            "Sum of the given matrices:\n",
            "[[1 0 0]\n",
            " [4 3 6]\n",
            " [0 1 4]]\n",
            "Difference of the given matrices:\n",
            "[[-1  0  0]\n",
            " [ 0 -3 -4]\n",
            " [ 0  1  2]]\n",
            "Element-wise multiplication of the matrices:\n",
            "[[0 0 0]\n",
            " [4 0 5]\n",
            " [0 0 3]]\n",
            "Element-wise division of the matrices:\n",
            "[[0.  nan nan]\n",
            " [1.  0.  0.2]\n",
            " [nan inf 3. ]]\n",
            "Sample Case: 5\n",
            "Matrix 1: [[7 1 2 3]\n",
            " [1 2 3 5]\n",
            " [0 7 3 5]]\n",
            "Matrix 2: [[ 7  2  3]\n",
            " [12  2  1]\n",
            " [ 3  1 13]]\n",
            "The shape of both matrices are not the same. Could not perform operations.\n"
          ]
        },
        {
          "output_type": "stream",
          "name": "stderr",
          "text": [
            "/usr/local/lib/python3.7/dist-packages/ipykernel_launcher.py:19: RuntimeWarning: divide by zero encountered in true_divide\n",
            "/usr/local/lib/python3.7/dist-packages/ipykernel_launcher.py:19: RuntimeWarning: invalid value encountered in true_divide\n"
          ]
        }
      ]
    }
  ]
}