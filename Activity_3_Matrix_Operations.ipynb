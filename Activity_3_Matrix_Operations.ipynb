{
  "nbformat": 4,
  "nbformat_minor": 0,
  "metadata": {
    "colab": {
      "name": "Activity 3 Matrix Operations.ipynb",
      "provenance": [],
      "collapsed_sections": [
        "ftzHY0BNgqjj",
        "_M-F0VfZKsYw",
        "UGmtqpaPMlJi",
        "fI6f4OW8Qd9_",
        "dNYIM-WLRQks",
        "UXn8EPTiRjB2"
      ],
      "authorship_tag": "ABX9TyNqpl1UjXG9L9sycoyKfaDP",
      "include_colab_link": true
    },
    "kernelspec": {
      "name": "python3",
      "display_name": "Python 3"
    },
    "language_info": {
      "name": "python"
    }
  },
  "cells": [
    {
      "cell_type": "markdown",
      "metadata": {
        "id": "view-in-github",
        "colab_type": "text"
      },
      "source": [
        "<a href=\"https://colab.research.google.com/github/Gabobooooooo/Linear-Algebra_ChE_2nd-Sem-2021-2022/blob/main/Activity_3_Matrix_Operations.ipynb\" target=\"_parent\"><img src=\"https://colab.research.google.com/assets/colab-badge.svg\" alt=\"Open In Colab\"/></a>"
      ]
    },
    {
      "cell_type": "markdown",
      "source": [
        "# Activity 3: Matrix Operations"
      ],
      "metadata": {
        "id": "El_WQIruS8wv"
      }
    },
    {
      "cell_type": "markdown",
      "source": [
        "#####Objectives\n",
        "At the end of this activity you will be able to:\n",
        "\n",
        "Be familiar with the fundamental matrix operations.\n",
        "\n",
        "1.   Be familiar with the fundamental matrix operations.\n",
        "2.   Apply the operations to solve intemrediate equations.\n",
        "3.   Apply matrix algebra in engineering solutions.\n",
        "\n"
      ],
      "metadata": {
        "id": "bPPUVydRjKq4"
      }
    },
    {
      "cell_type": "code",
      "source": [
        "import numpy as np\n",
        "import matplotlib.pyplot as plt\n",
        "%matplotlib inline"
      ],
      "metadata": {
        "id": "py2x371pUXD_"
      },
      "execution_count": 1,
      "outputs": []
    },
    {
      "cell_type": "markdown",
      "source": [
        "#Transposition"
      ],
      "metadata": {
        "id": "q2r92b-eXrmj"
      }
    },
    {
      "cell_type": "markdown",
      "source": [
        "#####One of the fundamental operations in matrix algebra is Transposition. The transpose of a matrix is done by flipping the values of its elements over its diagonals. With this, the rows and columns from the original matrix will be switched. Let A = original value of the matrix A and A^T = transpose form of matrix a"
      ],
      "metadata": {
        "id": "4gqnwU76jbiK"
      }
    },
    {
      "cell_type": "markdown",
      "source": [
        "$$A = \\begin{bmatrix} 123 & 345 & 678\\\\910 & 11 &12 \\\\ 13 & 14 & 15\\end{bmatrix} $$\n"
      ],
      "metadata": {
        "id": "PFBS8exFUbYj"
      }
    },
    {
      "cell_type": "markdown",
      "source": [
        "$$A^T = \\begin{bmatrix} 123 & 910 & 13\\\\345 & 11 &14 \\\\ 678 & 12 & 15\\end{bmatrix} $$"
      ],
      "metadata": {
        "id": "mWWcs_bdUlEA"
      }
    },
    {
      "cell_type": "code",
      "source": [
        "A = np.array([\n",
        "    [12 ,23, 45],\n",
        "    [65, 71, 80],\n",
        "    [90, -13, 23]\n",
        "])\n",
        "A"
      ],
      "metadata": {
        "colab": {
          "base_uri": "https://localhost:8080/"
        },
        "id": "7aBfMOHAVE5V",
        "outputId": "6c37418d-010b-442c-d6c3-dbd27d3acf11"
      },
      "execution_count": 2,
      "outputs": [
        {
          "output_type": "execute_result",
          "data": {
            "text/plain": [
              "array([[ 12,  23,  45],\n",
              "       [ 65,  71,  80],\n",
              "       [ 90, -13,  23]])"
            ]
          },
          "metadata": {},
          "execution_count": 2
        }
      ]
    },
    {
      "cell_type": "code",
      "source": [
        "ATpose2 = np.transpose(A)\n",
        "ATpose2"
      ],
      "metadata": {
        "colab": {
          "base_uri": "https://localhost:8080/"
        },
        "id": "cPQb4KUKV_QV",
        "outputId": "6b963a43-9b07-419e-fe6a-30e3eb9801f9"
      },
      "execution_count": null,
      "outputs": [
        {
          "output_type": "execute_result",
          "data": {
            "text/plain": [
              "array([[ 12,  65,  90],\n",
              "       [ 23,  71, -13],\n",
              "       [ 45,  80,  23]])"
            ]
          },
          "metadata": {},
          "execution_count": 10
        }
      ]
    },
    {
      "cell_type": "code",
      "source": [
        "ATpose1 = A.T\n",
        "ATpose1"
      ],
      "metadata": {
        "colab": {
          "base_uri": "https://localhost:8080/"
        },
        "id": "ACXqbIAdVMzm",
        "outputId": "435769ac-270f-4e24-e13c-d44e93e88014"
      },
      "execution_count": null,
      "outputs": [
        {
          "output_type": "execute_result",
          "data": {
            "text/plain": [
              "array([[ 12,  65,  90],\n",
              "       [ 23,  71, -13],\n",
              "       [ 45,  80,  23]])"
            ]
          },
          "metadata": {},
          "execution_count": 8
        }
      ]
    },
    {
      "cell_type": "code",
      "source": [
        "np.array_equiv(ATpose1, ATpose2)"
      ],
      "metadata": {
        "colab": {
          "base_uri": "https://localhost:8080/"
        },
        "id": "r-H_qw_cWHl9",
        "outputId": "79edc279-8bc8-4bef-bb09-35cba4fc4894"
      },
      "execution_count": null,
      "outputs": [
        {
          "output_type": "execute_result",
          "data": {
            "text/plain": [
              "True"
            ]
          },
          "metadata": {},
          "execution_count": 11
        }
      ]
    },
    {
      "cell_type": "code",
      "source": [
        "Bmt = np.array([\n",
        "    [6,6,6],\n",
        "    [1,3,4],\n",
        "])\n",
        "Bmt.shape"
      ],
      "metadata": {
        "colab": {
          "base_uri": "https://localhost:8080/"
        },
        "id": "EdbPv4bsWPUJ",
        "outputId": "ce8289d5-dbd1-40aa-df33-2ae56fc5f1ca"
      },
      "execution_count": null,
      "outputs": [
        {
          "output_type": "execute_result",
          "data": {
            "text/plain": [
              "(2, 3)"
            ]
          },
          "metadata": {},
          "execution_count": 26
        }
      ]
    },
    {
      "cell_type": "code",
      "source": [
        "np.transpose(Bmt).shape"
      ],
      "metadata": {
        "colab": {
          "base_uri": "https://localhost:8080/"
        },
        "id": "NL-U4-JhWXeu",
        "outputId": "43867c0a-176f-4864-cbd8-3e2bb8b9e3db"
      },
      "execution_count": null,
      "outputs": [
        {
          "output_type": "execute_result",
          "data": {
            "text/plain": [
              "(3, 2)"
            ]
          },
          "metadata": {},
          "execution_count": 27
        }
      ]
    },
    {
      "cell_type": "code",
      "source": [
        "BTpose = Bmt.T.shape\n",
        "BTpose"
      ],
      "metadata": {
        "colab": {
          "base_uri": "https://localhost:8080/"
        },
        "id": "h-4g4FHcWhdA",
        "outputId": "ae3ab834-8b26-425a-caef-2bbded059780"
      },
      "execution_count": null,
      "outputs": [
        {
          "output_type": "execute_result",
          "data": {
            "text/plain": [
              "(3, 2)"
            ]
          },
          "metadata": {},
          "execution_count": 28
        }
      ]
    },
    {
      "cell_type": "markdown",
      "source": [
        "#Dot Product/Inner Product"
      ],
      "metadata": {
        "id": "SS3j1QcuXtmG"
      }
    },
    {
      "cell_type": "markdown",
      "source": [
        "######If you recall the dot product from laboratory activity before, we will try to implement the same operation with matrices. In matrix dot product we are going to get the sum of products of the vectors by row-column pairs. Assign values for variable A and B"
      ],
      "metadata": {
        "id": "TFmyhBRQYp9F"
      }
    },
    {
      "cell_type": "markdown",
      "source": [
        "$$\n",
        "A=\\begin{bmatrix} 3 & 5 \\\\ 6 & 50\\end{bmatrix},\n",
        "B=\\begin{bmatrix} 64 & 32 \\\\  23 & 5\\end{bmatrix}\\\\\n",
        "$$"
      ],
      "metadata": {
        "id": "rOODaeXCYYAr"
      }
    },
    {
      "cell_type": "markdown",
      "source": [
        "$$\n",
        "A ⋅ B=\\begin{bmatrix} |3 * 64 + 5 * 23||3 * 32 + 5*5|\\\\ |6 *64 + 50*23| |6 * 32 + 50*5|\\end{bmatrix} = \\begin{bmatrix} 307&121 \\\\384&192\\end{bmatrix}\n",
        "$$"
      ],
      "metadata": {
        "id": "8DrqUI9OY1sh"
      }
    },
    {
      "cell_type": "code",
      "source": [
        "Xmt = np.array([\n",
        "    [16,22,44],\n",
        "    [26,28,55],\n",
        "    [62,82,77]\n",
        "])\n",
        "Ymt = np.array([\n",
        "    [4,7,66],\n",
        "    [22,19,22],\n",
        "    [24,76,89]\n",
        "])"
      ],
      "metadata": {
        "id": "u8-Qzfd4YWH3"
      },
      "execution_count": null,
      "outputs": []
    },
    {
      "cell_type": "code",
      "source": [
        "np.dot(Xmt,Ymt)"
      ],
      "metadata": {
        "colab": {
          "base_uri": "https://localhost:8080/"
        },
        "id": "BxjEsSDCYeQV",
        "outputId": "c7b909d6-7810-4e51-f395-11c79855ba49"
      },
      "execution_count": null,
      "outputs": [
        {
          "output_type": "execute_result",
          "data": {
            "text/plain": [
              "array([[ 1604,  3874,  5456],\n",
              "       [ 2040,  4894,  7227],\n",
              "       [ 3900,  7844, 12749]])"
            ]
          },
          "metadata": {},
          "execution_count": 42
        }
      ]
    },
    {
      "cell_type": "code",
      "source": [
        "Xmt.dot(Ymt)"
      ],
      "metadata": {
        "colab": {
          "base_uri": "https://localhost:8080/"
        },
        "id": "3P7u5E_rY_zs",
        "outputId": "4a0f7c50-26b3-416c-f87d-5360ed7aedc4"
      },
      "execution_count": null,
      "outputs": [
        {
          "output_type": "execute_result",
          "data": {
            "text/plain": [
              "array([[ 1604,  3874,  5456],\n",
              "       [ 2040,  4894,  7227],\n",
              "       [ 3900,  7844, 12749]])"
            ]
          },
          "metadata": {},
          "execution_count": 44
        }
      ]
    },
    {
      "cell_type": "code",
      "source": [
        "Xmt @ Ymt"
      ],
      "metadata": {
        "colab": {
          "base_uri": "https://localhost:8080/"
        },
        "id": "oqICTr--ZF3L",
        "outputId": "d89c6a9d-d005-4773-8b25-2c5b72c03ed6"
      },
      "execution_count": null,
      "outputs": [
        {
          "output_type": "execute_result",
          "data": {
            "text/plain": [
              "array([[ 1604,  3874,  5456],\n",
              "       [ 2040,  4894,  7227],\n",
              "       [ 3900,  7844, 12749]])"
            ]
          },
          "metadata": {},
          "execution_count": 45
        }
      ]
    },
    {
      "cell_type": "code",
      "source": [
        "np.matmul(Xmt,Ymt)"
      ],
      "metadata": {
        "colab": {
          "base_uri": "https://localhost:8080/"
        },
        "id": "OMxRxbIlZUXX",
        "outputId": "dc88652f-8135-4881-b266-d0f44f3416d5"
      },
      "execution_count": null,
      "outputs": [
        {
          "output_type": "execute_result",
          "data": {
            "text/plain": [
              "array([[ 1604,  3874,  5456],\n",
              "       [ 2040,  4894,  7227],\n",
              "       [ 3900,  7844, 12749]])"
            ]
          },
          "metadata": {},
          "execution_count": 46
        }
      ]
    },
    {
      "cell_type": "markdown",
      "source": [
        "###Rule 1: The inner dimensions of the two matrices in question must be the same"
      ],
      "metadata": {
        "id": "8zPW0PSwZYX3"
      }
    },
    {
      "cell_type": "markdown",
      "source": [
        "#####So given a matrix  with a shape of  where  and  are any integers. If we want to do a dot product between  and another matrix , then matrix  should have a shape of  where  and  are any integers. Let A, B, and C "
      ],
      "metadata": {
        "id": "_ciLDhVnjEqN"
      }
    },
    {
      "cell_type": "markdown",
      "source": [
        "#####$$\n",
        "A=\\begin{bmatrix} 1 & 6 \\\\ 2 & 6\\\\ 2 & 6\\end{bmatrix},\n",
        "B=\\begin{bmatrix} 132 & 2 \\\\  32 & 334\\\\\\ 23 & 123\\end{bmatrix}\\\\,\n",
        "C=\\begin{bmatrix} 23 & 32 & 12 \\\\  67 & 23 & 23\\end{bmatrix}\\\\\n",
        "$$"
      ],
      "metadata": {
        "id": "8rpls6WQdPl3"
      }
    },
    {
      "cell_type": "code",
      "source": [
        ""
      ],
      "metadata": {
        "id": "G3zfqbY5GkmG"
      },
      "execution_count": null,
      "outputs": []
    },
    {
      "cell_type": "code",
      "source": [
        "A = np.array([\n",
        "    [1, 6],\n",
        "    [2,6 ],\n",
        "    [2, 8]\n",
        "])\n",
        "B = np.array([\n",
        "    [132,2],\n",
        "    [32,334],\n",
        "    [23,123,]\n",
        "])\n",
        "C = np.array([\n",
        "    [23,32,12],\n",
        "    [67,23,23]\n",
        "    \n",
        "])\n",
        "print(A.shape)\n",
        "print(B.shape)\n",
        "print(C.shape)"
      ],
      "metadata": {
        "colab": {
          "base_uri": "https://localhost:8080/"
        },
        "id": "UJscUH-2ZdWZ",
        "outputId": "0b979d69-7478-431e-c748-43d02540fd4f"
      },
      "execution_count": null,
      "outputs": [
        {
          "output_type": "stream",
          "name": "stdout",
          "text": [
            "(3, 2)\n",
            "(3, 2)\n",
            "(2, 3)\n"
          ]
        }
      ]
    },
    {
      "cell_type": "code",
      "source": [
        "A @ B"
      ],
      "metadata": {
        "colab": {
          "base_uri": "https://localhost:8080/",
          "height": 184
        },
        "id": "76rdCEdpajf5",
        "outputId": "d19b06cf-07f0-4f84-f7bd-8cc49bd59091"
      },
      "execution_count": null,
      "outputs": [
        {
          "output_type": "error",
          "ename": "ValueError",
          "evalue": "ignored",
          "traceback": [
            "\u001b[0;31m---------------------------------------------------------------------------\u001b[0m",
            "\u001b[0;31mValueError\u001b[0m                                Traceback (most recent call last)",
            "\u001b[0;32m<ipython-input-7-455d622f3b50>\u001b[0m in \u001b[0;36m<module>\u001b[0;34m()\u001b[0m\n\u001b[0;32m----> 1\u001b[0;31m \u001b[0mA\u001b[0m \u001b[0;34m@\u001b[0m \u001b[0mB\u001b[0m\u001b[0;34m\u001b[0m\u001b[0;34m\u001b[0m\u001b[0m\n\u001b[0m",
            "\u001b[0;31mValueError\u001b[0m: matmul: Input operand 1 has a mismatch in its core dimension 0, with gufunc signature (n?,k),(k,m?)->(n?,m?) (size 3 is different from 2)"
          ]
        }
      ]
    },
    {
      "cell_type": "code",
      "source": [
        "B @ A"
      ],
      "metadata": {
        "colab": {
          "base_uri": "https://localhost:8080/",
          "height": 184
        },
        "id": "6PtK5bIKamYx",
        "outputId": "3ec8b192-4bf6-4c29-9e84-9edd7544085d"
      },
      "execution_count": null,
      "outputs": [
        {
          "output_type": "error",
          "ename": "ValueError",
          "evalue": "ignored",
          "traceback": [
            "\u001b[0;31m---------------------------------------------------------------------------\u001b[0m",
            "\u001b[0;31mValueError\u001b[0m                                Traceback (most recent call last)",
            "\u001b[0;32m<ipython-input-8-c9046335e71f>\u001b[0m in \u001b[0;36m<module>\u001b[0;34m()\u001b[0m\n\u001b[0;32m----> 1\u001b[0;31m \u001b[0mB\u001b[0m \u001b[0;34m@\u001b[0m \u001b[0mA\u001b[0m\u001b[0;34m\u001b[0m\u001b[0;34m\u001b[0m\u001b[0m\n\u001b[0m",
            "\u001b[0;31mValueError\u001b[0m: matmul: Input operand 1 has a mismatch in its core dimension 0, with gufunc signature (n?,k),(k,m?)->(n?,m?) (size 3 is different from 2)"
          ]
        }
      ]
    },
    {
      "cell_type": "markdown",
      "source": [
        "#####When we try to multiply Matrix A to Matrix B, the result is error since our resulting matrix does not to the desired shape of (a,c) that is derived from A(a,b) and B(b,c)"
      ],
      "metadata": {
        "id": "rGee0tgyeNtt"
      }
    },
    {
      "cell_type": "code",
      "source": [
        "B.T @ A"
      ],
      "metadata": {
        "colab": {
          "base_uri": "https://localhost:8080/"
        },
        "id": "S3nlLpbkcgMt",
        "outputId": "1fcf7d36-4420-4da8-8683-53d3bad2965f"
      },
      "execution_count": null,
      "outputs": [
        {
          "output_type": "execute_result",
          "data": {
            "text/plain": [
              "array([[ 242, 1168],\n",
              "       [ 916, 3000]])"
            ]
          },
          "metadata": {},
          "execution_count": 9
        }
      ]
    },
    {
      "cell_type": "markdown",
      "source": [
        "#####As we tranpose Matrix B, errors are not found since it does now fit to the desired shape of (a,c) "
      ],
      "metadata": {
        "id": "MItHTtk1gLCF"
      }
    },
    {
      "cell_type": "code",
      "source": [
        "A @ C"
      ],
      "metadata": {
        "colab": {
          "base_uri": "https://localhost:8080/"
        },
        "id": "DGj6rAKwa3Wt",
        "outputId": "c451f968-3b6e-46df-c27c-ee23599007ce"
      },
      "execution_count": null,
      "outputs": [
        {
          "output_type": "execute_result",
          "data": {
            "text/plain": [
              "array([[425, 170, 150],\n",
              "       [448, 202, 162],\n",
              "       [582, 248, 208]])"
            ]
          },
          "metadata": {},
          "execution_count": 10
        }
      ]
    },
    {
      "cell_type": "code",
      "source": [
        "X = np.array([\n",
        "    [87,65,43,21],\n",
        "    [12,23,45,56]\n",
        "])\n",
        "Y = np.array([\n",
        "    [11,22,33,44],\n",
        "    [77,88,99,11]\n",
        "])\n",
        "print(X.shape)\n",
        "print(Y.shape)"
      ],
      "metadata": {
        "colab": {
          "base_uri": "https://localhost:8080/"
        },
        "id": "XA4EwSOlbdBX",
        "outputId": "d5e6d632-1514-4edb-f752-07352eece3d9"
      },
      "execution_count": null,
      "outputs": [
        {
          "output_type": "stream",
          "name": "stdout",
          "text": [
            "(2, 4)\n",
            "(2, 4)\n"
          ]
        }
      ]
    },
    {
      "cell_type": "markdown",
      "source": [
        "###Rule 2: Dot Product has special properties"
      ],
      "metadata": {
        "id": "rVRtNVOub-MR"
      }
    },
    {
      "cell_type": "markdown",
      "source": [
        "#####Dot products are prevalent in matrix algebra, this implies that it has several unique properties and it should be considered when formulation solutions. Designate values for matrices A, B, and C."
      ],
      "metadata": {
        "id": "JYLHgMzH_MF7"
      }
    },
    {
      "cell_type": "code",
      "source": [
        "A = np.array([\n",
        "    [6,6,6],\n",
        "    [1,2,3],\n",
        "    [5,5,5]\n",
        "])\n",
        "B = np.array([\n",
        "    [11,12,13],\n",
        "    [16,15,14],\n",
        "    [23,22,21]\n",
        "])\n",
        "C = np.array([\n",
        "    [55,66,77],\n",
        "    [67,23,25],\n",
        "    [62,10,90]\n",
        "])"
      ],
      "metadata": {
        "id": "qEU6G9JLgkXL"
      },
      "execution_count": null,
      "outputs": []
    },
    {
      "cell_type": "markdown",
      "source": [
        "####First Property\n",
        "A ⋅ B ≠ B ⋅ A"
      ],
      "metadata": {
        "id": "ftzHY0BNgqjj"
      }
    },
    {
      "cell_type": "code",
      "source": [
        "AmultiB = A @ B\n",
        "AmultiB"
      ],
      "metadata": {
        "colab": {
          "base_uri": "https://localhost:8080/"
        },
        "id": "3EceCyGgglTq",
        "outputId": "ccdde8eb-db70-4217-9b8c-d30eaf921dc4"
      },
      "execution_count": null,
      "outputs": [
        {
          "output_type": "execute_result",
          "data": {
            "text/plain": [
              "array([[300, 294, 288],\n",
              "       [112, 108, 104],\n",
              "       [250, 245, 240]])"
            ]
          },
          "metadata": {},
          "execution_count": 12
        }
      ]
    },
    {
      "cell_type": "code",
      "source": [
        "BmultiA = B @ A\n",
        "BmultiA"
      ],
      "metadata": {
        "colab": {
          "base_uri": "https://localhost:8080/"
        },
        "id": "fuoUrcL-guLd",
        "outputId": "787c27a9-5072-4af9-85bd-f6a6c487d3df"
      },
      "execution_count": null,
      "outputs": [
        {
          "output_type": "execute_result",
          "data": {
            "text/plain": [
              "array([[143, 155, 167],\n",
              "       [181, 196, 211],\n",
              "       [265, 287, 309]])"
            ]
          },
          "metadata": {},
          "execution_count": 13
        }
      ]
    },
    {
      "cell_type": "code",
      "source": [
        "np.array_equal(AmultiB,BmultiA)"
      ],
      "metadata": {
        "colab": {
          "base_uri": "https://localhost:8080/"
        },
        "id": "Z9m-VwzPFbo4",
        "outputId": "8f24bcfe-cce3-4824-af2d-07c6f5d9082f"
      },
      "execution_count": null,
      "outputs": [
        {
          "output_type": "execute_result",
          "data": {
            "text/plain": [
              "False"
            ]
          },
          "metadata": {},
          "execution_count": 14
        }
      ]
    },
    {
      "cell_type": "markdown",
      "source": [
        "####Second Property\n",
        "A ⋅ (B⋅C) = (A⋅B) ⋅ C"
      ],
      "metadata": {
        "id": "_M-F0VfZKsYw"
      }
    },
    {
      "cell_type": "code",
      "source": [
        "BmultiC = B @ C\n",
        "BmultiC"
      ],
      "metadata": {
        "colab": {
          "base_uri": "https://localhost:8080/"
        },
        "id": "m6nkoG-3KyhG",
        "outputId": "e68c52c5-ab54-4f4a-aee1-3e75aaafd96e"
      },
      "execution_count": null,
      "outputs": [
        {
          "output_type": "execute_result",
          "data": {
            "text/plain": [
              "array([[2215, 1132, 2317],\n",
              "       [2753, 1541, 2867],\n",
              "       [4041, 2234, 4211]])"
            ]
          },
          "metadata": {},
          "execution_count": 15
        }
      ]
    },
    {
      "cell_type": "code",
      "source": [
        "Left = A @ BmultiC\n",
        "Left"
      ],
      "metadata": {
        "colab": {
          "base_uri": "https://localhost:8080/"
        },
        "id": "jh03uHlVLK7j",
        "outputId": "16f40de8-6a00-4665-deef-eb5c668f7bcd"
      },
      "execution_count": null,
      "outputs": [
        {
          "output_type": "execute_result",
          "data": {
            "text/plain": [
              "array([[54054, 29442, 56370],\n",
              "       [19844, 10916, 20684],\n",
              "       [45045, 24535, 46975]])"
            ]
          },
          "metadata": {},
          "execution_count": 16
        }
      ]
    },
    {
      "cell_type": "code",
      "source": [
        "Right = AmultiB @ C\n",
        "Right"
      ],
      "metadata": {
        "colab": {
          "base_uri": "https://localhost:8080/"
        },
        "id": "GiGvVrR0L0Rq",
        "outputId": "db0f9b31-7630-4e62-d674-01d741dd1cbd"
      },
      "execution_count": null,
      "outputs": [
        {
          "output_type": "execute_result",
          "data": {
            "text/plain": [
              "array([[54054, 29442, 56370],\n",
              "       [19844, 10916, 20684],\n",
              "       [45045, 24535, 46975]])"
            ]
          },
          "metadata": {},
          "execution_count": 17
        }
      ]
    },
    {
      "cell_type": "code",
      "source": [
        "np.array_equal(Left,Right)"
      ],
      "metadata": {
        "colab": {
          "base_uri": "https://localhost:8080/"
        },
        "id": "DXm_VBoyMA6l",
        "outputId": "0e603428-ebb4-4a0e-ea93-02cc24f875be"
      },
      "execution_count": null,
      "outputs": [
        {
          "output_type": "execute_result",
          "data": {
            "text/plain": [
              "True"
            ]
          },
          "metadata": {},
          "execution_count": 18
        }
      ]
    },
    {
      "cell_type": "markdown",
      "source": [
        "####Third Property\n",
        "A ⋅ (B+C) = A⋅B + A⋅C\n"
      ],
      "metadata": {
        "id": "UGmtqpaPMlJi"
      }
    },
    {
      "cell_type": "code",
      "source": [
        "BplusC = B + C\n",
        "BplusC"
      ],
      "metadata": {
        "colab": {
          "base_uri": "https://localhost:8080/"
        },
        "id": "x0-Y8REkMoLp",
        "outputId": "3a311bc9-c0e6-49b4-c25d-5e8cb0aaafe2"
      },
      "execution_count": null,
      "outputs": [
        {
          "output_type": "execute_result",
          "data": {
            "text/plain": [
              "array([[ 66,  78,  90],\n",
              "       [ 83,  38,  39],\n",
              "       [ 85,  32, 111]])"
            ]
          },
          "metadata": {},
          "execution_count": 19
        }
      ]
    },
    {
      "cell_type": "code",
      "source": [
        "AmultiC = A @ C\n",
        "AmultiC"
      ],
      "metadata": {
        "colab": {
          "base_uri": "https://localhost:8080/"
        },
        "id": "yg9xy_yDPV2h",
        "outputId": "c9676373-8989-4d4f-acfe-ad0f496e26c3"
      },
      "execution_count": null,
      "outputs": [
        {
          "output_type": "execute_result",
          "data": {
            "text/plain": [
              "array([[1104,  594, 1152],\n",
              "       [ 375,  142,  397],\n",
              "       [ 920,  495,  960]])"
            ]
          },
          "metadata": {},
          "execution_count": 20
        }
      ]
    },
    {
      "cell_type": "code",
      "source": [
        "AmultiBlusC= A @ BplusC\n",
        "AmultiBlusC"
      ],
      "metadata": {
        "colab": {
          "base_uri": "https://localhost:8080/"
        },
        "id": "Xmw7FfjxQqcV",
        "outputId": "41699803-665d-4aca-92b0-c1077c1cad7e"
      },
      "execution_count": null,
      "outputs": [
        {
          "output_type": "execute_result",
          "data": {
            "text/plain": [
              "array([[1404,  888, 1440],\n",
              "       [ 487,  250,  501],\n",
              "       [1170,  740, 1200]])"
            ]
          },
          "metadata": {},
          "execution_count": 21
        }
      ]
    },
    {
      "cell_type": "code",
      "source": [
        "AmultiBplusAmultiC = AmultiB + AmultiC\n",
        "AmultiBplusAmultiC"
      ],
      "metadata": {
        "colab": {
          "base_uri": "https://localhost:8080/"
        },
        "id": "SB5JI7DcQ0ca",
        "outputId": "a4a9272a-639c-4533-8e49-52ccd13df037"
      },
      "execution_count": null,
      "outputs": [
        {
          "output_type": "execute_result",
          "data": {
            "text/plain": [
              "array([[1404,  888, 1440],\n",
              "       [ 487,  250,  501],\n",
              "       [1170,  740, 1200]])"
            ]
          },
          "metadata": {},
          "execution_count": 22
        }
      ]
    },
    {
      "cell_type": "code",
      "source": [
        "np.array_equal(AmultiBlusC,AmultiBplusAmultiC)"
      ],
      "metadata": {
        "colab": {
          "base_uri": "https://localhost:8080/"
        },
        "id": "HkkGkeU7RJae",
        "outputId": "200ba817-3147-40d7-93d3-161264994094"
      },
      "execution_count": null,
      "outputs": [
        {
          "output_type": "execute_result",
          "data": {
            "text/plain": [
              "True"
            ]
          },
          "metadata": {},
          "execution_count": 23
        }
      ]
    },
    {
      "cell_type": "markdown",
      "source": [
        "####Fourth Property\n",
        "(B+C) ⋅ A = B⋅A + C⋅A"
      ],
      "metadata": {
        "id": "fI6f4OW8Qd9_"
      }
    },
    {
      "cell_type": "code",
      "source": [
        "Left4th = BplusC @ A\n",
        "Left4th"
      ],
      "metadata": {
        "colab": {
          "base_uri": "https://localhost:8080/"
        },
        "id": "ScscHDBiQhAg",
        "outputId": "db3ce0c3-a4b9-40e2-995e-0de0d24a8639"
      },
      "execution_count": null,
      "outputs": [
        {
          "output_type": "execute_result",
          "data": {
            "text/plain": [
              "array([[ 924, 1002, 1080],\n",
              "       [ 731,  769,  807],\n",
              "       [1097, 1129, 1161]])"
            ]
          },
          "metadata": {},
          "execution_count": 27
        }
      ]
    },
    {
      "cell_type": "code",
      "source": [
        "Right4th = (B @ A) + (C @ A)\n",
        "Right4th"
      ],
      "metadata": {
        "colab": {
          "base_uri": "https://localhost:8080/"
        },
        "id": "mw4a_DP7Qxuc",
        "outputId": "3b4c6ad8-9516-4b2c-f6e4-57f2440604bd"
      },
      "execution_count": null,
      "outputs": [
        {
          "output_type": "execute_result",
          "data": {
            "text/plain": [
              "array([[ 924, 1002, 1080],\n",
              "       [ 731,  769,  807],\n",
              "       [1097, 1129, 1161]])"
            ]
          },
          "metadata": {},
          "execution_count": 28
        }
      ]
    },
    {
      "cell_type": "code",
      "source": [
        "np.array_equal(Left4th,Right4th)"
      ],
      "metadata": {
        "colab": {
          "base_uri": "https://localhost:8080/"
        },
        "id": "lhheHVBVQ4mQ",
        "outputId": "181676d8-e891-4645-b494-d9025fd0937d"
      },
      "execution_count": null,
      "outputs": [
        {
          "output_type": "execute_result",
          "data": {
            "text/plain": [
              "True"
            ]
          },
          "metadata": {},
          "execution_count": 29
        }
      ]
    },
    {
      "cell_type": "markdown",
      "source": [
        "####Fifth Property\n",
        "A ⋅ I = A"
      ],
      "metadata": {
        "id": "dNYIM-WLRQks"
      }
    },
    {
      "cell_type": "code",
      "source": [
        "identmat = np.identity(3)\n",
        "identmat\n"
      ],
      "metadata": {
        "colab": {
          "base_uri": "https://localhost:8080/"
        },
        "id": "Hc5-ZCZAVP_R",
        "outputId": "55337464-ea72-4a3f-9369-096b7b602148"
      },
      "execution_count": null,
      "outputs": [
        {
          "output_type": "execute_result",
          "data": {
            "text/plain": [
              "array([[1., 0., 0.],\n",
              "       [0., 1., 0.],\n",
              "       [0., 0., 1.]])"
            ]
          },
          "metadata": {},
          "execution_count": 5
        }
      ]
    },
    {
      "cell_type": "code",
      "source": [
        "Proof5th = A @ identmat\n",
        "Proof5th"
      ],
      "metadata": {
        "colab": {
          "base_uri": "https://localhost:8080/"
        },
        "id": "7gkii9lZWGNY",
        "outputId": "a01b1173-1540-40ff-fdae-eee8380afb48"
      },
      "execution_count": null,
      "outputs": [
        {
          "output_type": "execute_result",
          "data": {
            "text/plain": [
              "array([[6., 6., 6.],\n",
              "       [1., 2., 3.],\n",
              "       [5., 5., 5.]])"
            ]
          },
          "metadata": {},
          "execution_count": 6
        }
      ]
    },
    {
      "cell_type": "code",
      "source": [
        "np.array_equal(A,Proof5th)"
      ],
      "metadata": {
        "colab": {
          "base_uri": "https://localhost:8080/"
        },
        "id": "aqDzJ3WxWYcm",
        "outputId": "7e56f7b7-ab91-40b2-da98-2b7f2a2929d2"
      },
      "execution_count": null,
      "outputs": [
        {
          "output_type": "execute_result",
          "data": {
            "text/plain": [
              "True"
            ]
          },
          "metadata": {},
          "execution_count": 7
        }
      ]
    },
    {
      "cell_type": "markdown",
      "source": [
        "####Sixth Property\n",
        "A ⋅ 0 = 0"
      ],
      "metadata": {
        "id": "UXn8EPTiRjB2"
      }
    },
    {
      "cell_type": "code",
      "source": [
        "Zeromat = np.zeros((3,3))\n",
        "Zeromat"
      ],
      "metadata": {
        "colab": {
          "base_uri": "https://localhost:8080/"
        },
        "id": "viJWzSTgRmKm",
        "outputId": "2f15252e-f634-4472-cf11-60843f2b222c"
      },
      "execution_count": null,
      "outputs": [
        {
          "output_type": "execute_result",
          "data": {
            "text/plain": [
              "array([[0., 0., 0.],\n",
              "       [0., 0., 0.],\n",
              "       [0., 0., 0.]])"
            ]
          },
          "metadata": {},
          "execution_count": 33
        }
      ]
    },
    {
      "cell_type": "code",
      "source": [
        "Proof6th = A @ Zeromat\n",
        "Proof6th"
      ],
      "metadata": {
        "colab": {
          "base_uri": "https://localhost:8080/"
        },
        "id": "p6xrBNKDWwdg",
        "outputId": "588e1e6f-cba7-4833-f9f9-dafc86f544db"
      },
      "execution_count": null,
      "outputs": [
        {
          "output_type": "execute_result",
          "data": {
            "text/plain": [
              "array([[0., 0., 0.],\n",
              "       [0., 0., 0.],\n",
              "       [0., 0., 0.]])"
            ]
          },
          "metadata": {},
          "execution_count": 34
        }
      ]
    },
    {
      "cell_type": "code",
      "source": [
        "np.array_equal(Zeromat,Proof6th)"
      ],
      "metadata": {
        "colab": {
          "base_uri": "https://localhost:8080/"
        },
        "id": "HKN5-FPIW5sU",
        "outputId": "9fc3b80b-d05f-4603-b307-ba4cf642acfd"
      },
      "execution_count": null,
      "outputs": [
        {
          "output_type": "execute_result",
          "data": {
            "text/plain": [
              "True"
            ]
          },
          "metadata": {},
          "execution_count": 35
        }
      ]
    },
    {
      "cell_type": "markdown",
      "source": [
        "#Determinant"
      ],
      "metadata": {
        "id": "aPPkR8BNdIre"
      }
    },
    {
      "cell_type": "markdown",
      "source": [
        "#####A determinant is a scalar value derived from a square matrix. The determinant is a fundamental and important value used in matrix algebra. Although it will not be evident in this laboratory on how it can be used practically, but it will be reatly used in future lessons."
      ],
      "metadata": {
        "id": "YVU7YbvU_ea-"
      }
    },
    {
      "cell_type": "code",
      "source": [
        "A = np.array([\n",
        "    [69,14],\n",
        "    [2001,143],\n",
        "   \n",
        "])\n",
        "np.linalg.det(A)"
      ],
      "metadata": {
        "colab": {
          "base_uri": "https://localhost:8080/"
        },
        "id": "HO29Dx4udKsq",
        "outputId": "cd446e0a-5c44-41a2-c6e1-e22d1640f043"
      },
      "execution_count": null,
      "outputs": [
        {
          "output_type": "execute_result",
          "data": {
            "text/plain": [
              "-18147.000000000007"
            ]
          },
          "metadata": {},
          "execution_count": 76
        }
      ]
    },
    {
      "cell_type": "code",
      "source": [
        "## Now other mathematics classes would require you to solve this by hand, \n",
        "## and that is great for practicing your memorization and coordination skills \n",
        "## but in this class we aim for simplicity and speed so we'll use programming\n",
        "## but it's completely fine if you want to try to solve this one by hand.\n",
        "B = np.array([\n",
        "    [67,68,70,72],\n",
        "    [89,23,53,76],\n",
        "    [23,65,54,33],\n",
        "    [88,30,11,32]\n",
        "])\n",
        "np.linalg.det(B)\n"
      ],
      "metadata": {
        "colab": {
          "base_uri": "https://localhost:8080/"
        },
        "id": "lzgvkqp1dWet",
        "outputId": "e753fbbf-8b9e-45c2-dcc2-a5ebdc2d2788"
      },
      "execution_count": null,
      "outputs": [
        {
          "output_type": "execute_result",
          "data": {
            "text/plain": [
              "1865950.9999999984"
            ]
          },
          "metadata": {},
          "execution_count": 77
        }
      ]
    },
    {
      "cell_type": "markdown",
      "source": [
        "#Inverse"
      ],
      "metadata": {
        "id": "4Ilb2cYkdjMo"
      }
    },
    {
      "cell_type": "markdown",
      "source": [
        "#####The inverse of a matrix is another fundamental operation in matrix algebra. Determining the inverse of a matrix let us determine if its solvability and its characteristic as a system of linear equation — we'll expand on this in the nect module. Another use of the inverse matrix is solving the problem of divisibility between matrices. Although element-wise division exists but dividing the entire concept of matrices does not exists. Inverse matrices provides a related operation that could have the same concept of \"dividing\" matrices."
      ],
      "metadata": {
        "id": "juqS0CV0_iSZ"
      }
    },
    {
      "cell_type": "code",
      "source": [
        "M = np.array([\n",
        "    [55,66],\n",
        "    [-88, 23]\n",
        "])\n",
        "\n",
        "np.array(M @ np.linalg.inv(M), dtype=int)"
      ],
      "metadata": {
        "colab": {
          "base_uri": "https://localhost:8080/"
        },
        "id": "dpgGQHewdkhx",
        "outputId": "266a28ee-f3c9-4a6b-b0e5-dc9ca726bbb3"
      },
      "execution_count": null,
      "outputs": [
        {
          "output_type": "execute_result",
          "data": {
            "text/plain": [
              "array([[1, 0],\n",
              "       [0, 1]])"
            ]
          },
          "metadata": {},
          "execution_count": 74
        }
      ]
    },
    {
      "cell_type": "code",
      "source": [
        "N = np.array([\n",
        "    [33,45,35,23,52,32,55],\n",
        "    [94,90,88,99,77,53,25],\n",
        "    [45,28,22,12,23,89,75],\n",
        "    [34,56,88,80,29,22,25],\n",
        "    [84,23,55,63,23,83,28],\n",
        "    [-34,75,95,63,23,95,-22],\n",
        "    [-33,-28,12,26,10,90,22],\n",
        "])\n",
        "N_inv = np.linalg.inv(N)\n",
        "np.array(N @ N_inv,dtype=int)"
      ],
      "metadata": {
        "colab": {
          "base_uri": "https://localhost:8080/"
        },
        "id": "mhZes5qQdy05",
        "outputId": "818ed876-31b3-4852-be65-d3ea1466ad08"
      },
      "execution_count": null,
      "outputs": [
        {
          "output_type": "execute_result",
          "data": {
            "text/plain": [
              "array([[0, 0, 0, 0, 0, 0, 0],\n",
              "       [0, 0, 0, 0, 0, 0, 0],\n",
              "       [0, 0, 0, 0, 0, 0, 0],\n",
              "       [0, 0, 0, 1, 0, 0, 0],\n",
              "       [0, 0, 0, 0, 0, 0, 0],\n",
              "       [0, 0, 0, 0, 0, 1, 0],\n",
              "       [0, 0, 0, 0, 0, 0, 1]])"
            ]
          },
          "metadata": {},
          "execution_count": 73
        }
      ]
    },
    {
      "cell_type": "code",
      "source": [
        "squad = np.array([\n",
        "    [8.0, 2.0, 6.5],\n",
        "    [2.7, 8.7, 9.9],\n",
        "    [2.3, 8.3, 1.5]\n",
        "])\n",
        "weights = np.array([\n",
        "    [9.2, 0.7, 8.6]\n",
        "])\n",
        "p_grade = squad @ weights.T\n",
        "p_grade"
      ],
      "metadata": {
        "colab": {
          "base_uri": "https://localhost:8080/"
        },
        "id": "O0GFkEUCfuuD",
        "outputId": "324742f5-2e92-4345-82fe-c756ae73c92a"
      },
      "execution_count": null,
      "outputs": [
        {
          "output_type": "execute_result",
          "data": {
            "text/plain": [
              "array([[130.9 ],\n",
              "       [116.07],\n",
              "       [ 39.87]])"
            ]
          },
          "metadata": {},
          "execution_count": 79
        }
      ]
    }
  ]
}